{
 "cells": [
  {
   "cell_type": "code",
   "execution_count": 12,
   "id": "62c38e86",
   "metadata": {},
   "outputs": [],
   "source": [
    "import csv\n",
    "from bs4 import BeautifulSoup\n",
    "import pandas as pd\n",
    "import numpy as np\n",
    "import requests\n",
    "import time\n",
    "import csv\n",
    "import datetime\n",
    "from selenium import webdriver\n",
    "import datetime\n",
    "import random\n",
    "import os\n",
    "import re"
   ]
  },
  {
   "cell_type": "code",
   "execution_count": 13,
   "id": "cbe73c10",
   "metadata": {},
   "outputs": [
    {
     "name": "stderr",
     "output_type": "stream",
     "text": [
      "C:\\Users\\suppo\\AppData\\Local\\Temp/ipykernel_5216/20100060.py:5: FutureWarning: Passing a negative integer is deprecated in version 1.0 and will not be supported in future version. Instead, use None to not limit the column width.\n",
      "  pd.set_option('display.max_colwidth', -1)\n"
     ]
    }
   ],
   "source": [
    "# Configurations\n",
    "pd.set_option('display.max_rows', None)\n",
    "pd.set_option('display.max_columns', None)\n",
    "pd.set_option('display.width', None)\n",
    "pd.set_option('display.max_colwidth', -1)\n",
    "\n",
    "driver = webdriver.Chrome(\n",
    "    r'C:\\Program Files\\Common Files\\web driver\\chromedriver.exe')\n",
    "\n",
    "headers = {\"User-Agent\": \"Mozilla/5.0 (Windows NT 10.0; Win64; x64) AppleWebKit/537.36 (KHTML, like Gecko) Chrome/98.0.4758.102 Safari/537.36\",\n",
    "           \"X-Amzn-Trace-Id\": \"Root=1-620b953d-2201315c6de7caf52ed38203\", \"Accept\": \"text/html,application/xhtml+xml,application/xml;q=0.9,image/avif,image/webp,image/apng,*/*;q=0.8,application/signed-exchange;v=b3;q=0.9\",\n",
    "           \"Accept-Encoding\": \"gzip, deflate, br\"}\n",
    "\n",
    "column_header = ['Title', 'Price', 'Date', 'URL']\n",
    "\n",
    "price_regex =  r\"[0-9]+\\.?[0-9]*\""
   ]
  },
  {
   "cell_type": "code",
   "execution_count": 14,
   "id": "11817d13",
   "metadata": {},
   "outputs": [],
   "source": [
    "def readB2BSiteLinks(webSiteType):\n",
    "    webSiteLink = \"\"\n",
    "    switch = {\n",
    "        \"MSpa\": r\"C:\\Users\\suppo\\Desktop\\links\\mspalinks.csv\"\n",
    "    }\n",
    "    df = pd.read_csv(switch[webSiteType])\n",
    "    return df"
   ]
  },
  {
   "cell_type": "code",
   "execution_count": 15,
   "id": "4c3fb6b6",
   "metadata": {},
   "outputs": [],
   "source": [
    "def scrapB2BSite(siteLinks):\n",
    "    page = requests.get(siteLinks, headers=headers)\n",
    "    soup = BeautifulSoup(page.content, \"html.parser\")\n",
    "    formattedSoup = BeautifulSoup(soup.prettify(), \"html.parser\")\n",
    "    try:\n",
    "        title = formattedSoup.find('h1' , 'title-heading-left fusion-responsive-typography-calculated').get_text()\n",
    "\n",
    "        price=  formattedSoup.find('bdi').text\n",
    "        price =  re.findall(price_regex, price, re.MULTILINE)    \n",
    "        price=   \"\".join(price)\n",
    "        price = price.strip()\n",
    "       \n",
    "        title = title.strip() \n",
    "        \n",
    "        \n",
    "        \n",
    "        today = datetime.datetime.now().isoformat()\n",
    "        data = [title, price, today, siteLinks]\n",
    "        return data\n",
    "    except AttributeError as e:\n",
    "        print(e)\n",
    "    except Exception as e:\n",
    "        print(e)\n",
    "    return []\n",
    "   "
   ]
  },
  {
   "cell_type": "code",
   "execution_count": 16,
   "id": "d80d091f",
   "metadata": {},
   "outputs": [],
   "source": [
    "def writeB2BSiteDataToCsvFile(file_path, data, column_header):\n",
    "    has_header = False\n",
    "    # checking if the csv file contains headers already\n",
    "    if(os.path.isfile(file_path)):\n",
    "        with open(file_path, 'r') as csvfile:\n",
    "            # creating a csv reader object\n",
    "            csvreader = csv.reader(csvfile)\n",
    "            # extracting field names through first row\n",
    "            fields = next(csvreader)\n",
    "            if(len(fields)>0):\n",
    "                has_header = True\n",
    "            csvfile.close()\n",
    "      \n",
    "    with open(file_path, 'a', newline='', encoding='UTF8') as f:\n",
    "        writer = csv.writer(f)\n",
    "        if(not has_header):\n",
    "            writer.writerow(column_header)\n",
    "            has_header = True\n",
    "        writer.writerow(data)"
   ]
  },
  {
   "cell_type": "code",
   "execution_count": 17,
   "id": "4e5de5f8",
   "metadata": {},
   "outputs": [],
   "source": [
    "# reading the B2B site links\n",
    "b2b_site_links = readB2BSiteLinks(\"MSpa\")"
   ]
  },
  {
   "cell_type": "code",
   "execution_count": 18,
   "id": "1bf3b875",
   "metadata": {},
   "outputs": [
    {
     "name": "stdout",
     "output_type": "stream",
     "text": [
      "                                                                          Link\n",
      "0   https://www.mspauk.co.uk/products/mspa-bergen-comfort-series-c-be061/     \n",
      "1   https://www.mspauk.co.uk/products/mspa-bergen-comfort-series-c-be041/     \n",
      "2   https://www.mspauk.co.uk/products/mspa-tekapo-comfort-series-c-te061/     \n",
      "3   https://www.mspauk.co.uk/products/mspa-tekapo-comfort-series-c-te041/     \n",
      "4   https://www.mspauk.co.uk/products/mspa-ottoman-comfort-series-c-om061/    \n",
      "5   https://www.mspauk.co.uk/products/mspa-starry-comfort-series-c-st061/     \n",
      "6   https://www.mspauk.co.uk/products/mspa-tuscany-frame-series-f-tu061-copy/ \n",
      "7   https://www.mspauk.co.uk/products/mspa-mono-frame-series-f-mo061/         \n",
      "8   https://www.mspauk.co.uk/products/mspa-aurora-urban-series-u-au061/       \n",
      "9   https://www.mspauk.co.uk/products/mspa-rimba-urban-series-u-rb061/        \n",
      "10  https://www.mspauk.co.uk/products/mspa-nest-urban-series-u-ne021/         \n",
      "11  https://www.mspauk.co.uk/products/mspa-vito-urban-series-u-vt061/         \n",
      "12  https://www.mspauk.co.uk/products/mspa-otium-muse-series-m-ot061/         \n",
      "13  https://www.mspauk.co.uk/products/mspa-carlton-muse-series-m-ca061/       \n",
      "14  https://www.mspauk.co.uk/products/mspa-blue-round-lite-series-lbr06u/     \n",
      "15  https://www.mspauk.co.uk/products/mspa-blue-square-lite-series-lbs06u/    \n",
      "16  https://www.mspauk.co.uk/products/mspa-blue-round-lite-series-lbr04u/     \n",
      "17  https://www.mspauk.co.uk/products/mspa-blue-square-lite-series-lbs04u/    \n",
      "18  https://www.mspauk.co.uk/products/mspa-soho-premium-series-p-sh069/       \n",
      "19  https://www.mspauk.co.uk/products/mspa-camaro-premium-series-p-ca049/     \n",
      "20  https://www.mspauk.co.uk/products/mspa-camaro-premium-series-p-ca069/     \n",
      "21  https://www.mspauk.co.uk/products/mspa-exotic-premium-series-p-ex049/     \n",
      "22  https://www.mspauk.co.uk/products/mspa-exotic-premium-series-p-ex069/     \n",
      "23  https://www.mspauk.co.uk/products/mspa-silver-cloud-delight-series-d-sc04/\n",
      "24  https://www.mspauk.co.uk/products/mspa-silver-cloud-delight-series-d-sc06/\n"
     ]
    }
   ],
   "source": [
    "print(b2b_site_links)"
   ]
  },
  {
   "cell_type": "code",
   "execution_count": null,
   "id": "426af9d1",
   "metadata": {},
   "outputs": [
    {
     "name": "stdout",
     "output_type": "stream",
     "text": [
      "['MSpa Bergen Comfort Series C-BE061', '629.99', '2022-02-18T22:09:15.498401', 'https://www.mspauk.co.uk/products/mspa-bergen-comfort-series-c-be061/']\n",
      "['MSpa Bergen Comfort Series C-BE041', '599.99', '2022-02-18T22:09:19.939527', 'https://www.mspauk.co.uk/products/mspa-bergen-comfort-series-c-be041/']\n",
      "['Mspa Tekapo Comfort Series C-TE061', '649.99', '2022-02-18T22:09:26.396580', 'https://www.mspauk.co.uk/products/mspa-tekapo-comfort-series-c-te061/']\n"
     ]
    }
   ],
   "source": [
    "for site_links in b2b_site_links['Link']:\n",
    "    #starting the scrapping process\n",
    "    data = scrapB2BSite(site_links)\n",
    "    print(data)\n",
    "    sleepTimeInSeconds = random.randrange(2,10)\n",
    "    time.sleep(sleepTimeInSeconds)\n",
    "    # writing the processed output to a csv file\n",
    "    if(len(data)>0):\n",
    "        writeB2BSiteDataToCsvFile('MspaWebScraperDataset.csv', data, column_header)"
   ]
  },
  {
   "cell_type": "code",
   "execution_count": null,
   "id": "0b3a39c0",
   "metadata": {},
   "outputs": [],
   "source": []
  },
  {
   "cell_type": "code",
   "execution_count": null,
   "id": "7365a5c2",
   "metadata": {},
   "outputs": [],
   "source": []
  }
 ],
 "metadata": {
  "kernelspec": {
   "display_name": "Python 3 (ipykernel)",
   "language": "python",
   "name": "python3"
  },
  "language_info": {
   "codemirror_mode": {
    "name": "ipython",
    "version": 3
   },
   "file_extension": ".py",
   "mimetype": "text/x-python",
   "name": "python",
   "nbconvert_exporter": "python",
   "pygments_lexer": "ipython3",
   "version": "3.9.7"
  }
 },
 "nbformat": 4,
 "nbformat_minor": 5
}
