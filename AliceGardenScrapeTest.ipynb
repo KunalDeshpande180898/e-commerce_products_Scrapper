{
 "cells": [
  {
   "cell_type": "code",
   "execution_count": 1,
   "id": "62c38e86",
   "metadata": {},
   "outputs": [],
   "source": [
    "import csv\n",
    "from bs4 import BeautifulSoup\n",
    "import pandas as pd\n",
    "import numpy as np\n",
    "import requests\n",
    "import time\n",
    "import csv\n",
    "import datetime\n",
    "from selenium import webdriver\n",
    "import datetime\n",
    "import random\n",
    "import os"
   ]
  },
  {
   "cell_type": "code",
   "execution_count": 2,
   "id": "cbe73c10",
   "metadata": {},
   "outputs": [
    {
     "name": "stderr",
     "output_type": "stream",
     "text": [
      "/var/folders/lq/x__jtmnd7q5178b8wcfcq7780000gn/T/ipykernel_11022/798435752.py:5: FutureWarning: Passing a negative integer is deprecated in version 1.0 and will not be supported in future version. Instead, use None to not limit the column width.\n",
      "  pd.set_option('display.max_colwidth', -1)\n",
      "/var/folders/lq/x__jtmnd7q5178b8wcfcq7780000gn/T/ipykernel_11022/798435752.py:7: DeprecationWarning: executable_path has been deprecated, please pass in a Service object\n",
      "  driver = webdriver.Chrome(\n"
     ]
    }
   ],
   "source": [
    "# Configurations\n",
    "pd.set_option('display.max_rows', None)\n",
    "pd.set_option('display.max_columns', None)\n",
    "pd.set_option('display.width', None)\n",
    "pd.set_option('display.max_colwidth', -1)\n",
    "\n",
    "driver = webdriver.Chrome(\n",
    "    r'/Users/kunaldeshpande/Documents/chromedriver 2')\n",
    "\n",
    "headers = {\"User-Agent\": \"Mozilla/5.0 (Windows NT 10.0; Win64; x64) AppleWebKit/537.36 (KHTML, like Gecko) Chrome/98.0.4758.102 Safari/537.36\",\n",
    "           \"X-Amzn-Trace-Id\": \"Root=1-620b953d-2201315c6de7caf52ed38203\", \"Accept\": \"text/html,application/xhtml+xml,application/xml;q=0.9,image/avif,image/webp,image/apng,*/*;q=0.8,application/signed-exchange;v=b3;q=0.9\",\n",
    "           \"Accept-Encoding\": \"gzip, deflate, br\"}\n",
    "\n",
    "column_header = ['Title', 'Price', 'Date', 'URL']"
   ]
  },
  {
   "cell_type": "code",
   "execution_count": 3,
   "id": "11817d13",
   "metadata": {},
   "outputs": [],
   "source": [
    "def readB2BSiteLinks(webSiteType):\n",
    "    webSiteLink = \"\"\n",
    "    switch = {\n",
    "        \"AliceGarden\": r\"/Users/kunaldeshpande/Desktop/project/Scrap/alice garden/alice's garden .csv\"\n",
    "    }\n",
    "    df = pd.read_csv(switch[webSiteType])\n",
    "    return df"
   ]
  },
  {
   "cell_type": "code",
   "execution_count": 4,
   "id": "4c3fb6b6",
   "metadata": {},
   "outputs": [],
   "source": [
    "def scrapB2BSite(siteLinks):\n",
    "    page = requests.get(siteLinks, headers=headers)\n",
    "    soup = BeautifulSoup(page.content, \"html.parser\")\n",
    "    formattedSoup = BeautifulSoup(soup.prettify(), \"html.parser\")\n",
    "    try:\n",
    "        title = formattedSoup.find('h1' , 'product__title').get_text()\n",
    "\n",
    "        price=  formattedSoup.find('div' , 'product-price__special-price').text\n",
    "        price = price.strip()[1:]\n",
    "        title = title.strip()\n",
    "        today = datetime.datetime.now().isoformat()\n",
    "        data = [title, price, today, siteLinks]\n",
    "        return data\n",
    "    except AttributeError as e:\n",
    "        print(e)\n",
    "    except Exception as e:\n",
    "        print(e)\n",
    "    return []\n",
    "   "
   ]
  },
  {
   "cell_type": "code",
   "execution_count": 5,
   "id": "d80d091f",
   "metadata": {},
   "outputs": [],
   "source": [
    "def writeB2BSiteDataToCsvFile(file_path, data, column_header):\n",
    "    has_header = False\n",
    "    # checking if the csv file contains headers already\n",
    "    if(os.path.isfile(file_path)):\n",
    "        with open(file_path, 'r') as csvfile:\n",
    "            # creating a csv reader object\n",
    "            csvreader = csv.reader(csvfile)\n",
    "            # extracting field names through first row\n",
    "            fields = next(csvreader)\n",
    "            if(len(fields)>0):\n",
    "                has_header = True\n",
    "            csvfile.close()\n",
    "      \n",
    "    with open(file_path, 'a', newline='', encoding='UTF8') as f:\n",
    "        writer = csv.writer(f)\n",
    "        if(not has_header):\n",
    "            writer.writerow(column_header)\n",
    "            has_header = True\n",
    "        writer.writerow(data)"
   ]
  },
  {
   "cell_type": "code",
   "execution_count": 6,
   "id": "4e5de5f8",
   "metadata": {},
   "outputs": [],
   "source": [
    "# reading the B2B site links\n",
    "b2b_site_links = readB2BSiteLinks(\"AliceGarden\")"
   ]
  },
  {
   "cell_type": "code",
   "execution_count": 7,
   "id": "1bf3b875",
   "metadata": {},
   "outputs": [
    {
     "name": "stdout",
     "output_type": "stream",
     "text": [
      "                                                                                                                                   Link  \\\n",
      "0  https://www.alicesgarden.co.uk/product/round-inflatable-hot-tub-mspa-kili-6-grey-6-person-spa-pvc-pump-heater-air-pump-filter          \n",
      "1  https://www.alicesgarden.co.uk/product/square-inflatable-hot-tub-fjord-6-mspa-185cm-square-6-person-pvc-pump-heating-air-pump-filter   \n",
      "2  https://www.alicesgarden.co.uk/product/round-inflatable-hot-tub-mspa-kili-6-grey-6-person-spa-pvc-pump-heater-air-pump-filter          \n",
      "3  https://www.alicesgarden.co.uk/product/spa-mspa-inflatable-round-carlton-6-person-205-cm-pvc-pump-heating-hydrojet-massage             \n",
      "4  https://www.alicesgarden.co.uk/product/round-inflatable-hot-tub-mspa-kili-4-grey-4-person-spa-pvc-pump-heater-air-pump-filter-1        \n",
      "5  https://www.alicesgarden.co.uk/product/inflatable-hot-tub-mspa-nest-2-compact-2-person-spa-side-table-cover-remote-control-1           \n",
      "\n",
      "   Unnamed: 1  Unnamed: 2  Unnamed: 3  Unnamed: 4  Unnamed: 5  Unnamed: 6  \\\n",
      "0 NaN         NaN         NaN         NaN         NaN         NaN           \n",
      "1 NaN         NaN         NaN         NaN         NaN         NaN           \n",
      "2 NaN         NaN         NaN         NaN         NaN         NaN           \n",
      "3 NaN         NaN         NaN         NaN         NaN         NaN           \n",
      "4 NaN         NaN         NaN         NaN         NaN         NaN           \n",
      "5 NaN         NaN         NaN         NaN         NaN         NaN           \n",
      "\n",
      "   Unnamed: 7  Unnamed: 8  Unnamed: 9  Unnamed: 10  Unnamed: 11  Unnamed: 12  \\\n",
      "0 NaN         NaN         NaN         NaN          NaN          NaN            \n",
      "1 NaN         NaN         NaN         NaN          NaN          NaN            \n",
      "2 NaN         NaN         NaN         NaN          NaN          NaN            \n",
      "3 NaN         NaN         NaN         NaN          NaN          NaN            \n",
      "4 NaN         NaN         NaN         NaN          NaN          NaN            \n",
      "5 NaN         NaN         NaN         NaN          NaN          NaN            \n",
      "\n",
      "   Unnamed: 13  \n",
      "0 NaN           \n",
      "1 NaN           \n",
      "2 NaN           \n",
      "3 NaN           \n",
      "4 NaN           \n",
      "5 NaN           \n"
     ]
    }
   ],
   "source": [
    "print(b2b_site_links)"
   ]
  },
  {
   "cell_type": "code",
   "execution_count": 12,
   "id": "426af9d1",
   "metadata": {},
   "outputs": [
    {
     "name": "stdout",
     "output_type": "stream",
     "text": [
      "['MSpa Lite - KILI 6 - Round inflatable hot tub', '289.00', '2022-09-14T09:13:06.393603', 'https://www.alicesgarden.co.uk/product/round-inflatable-hot-tub-mspa-kili-6-grey-6-person-spa-pvc-pump-heater-air-pump-filter']\n",
      "['MSpa Lite - FJORD 6 - Square inflatable hot tub', '289.00', '2022-09-14T09:13:15.781938', 'https://www.alicesgarden.co.uk/product/square-inflatable-hot-tub-fjord-6-mspa-185cm-square-6-person-pvc-pump-heating-air-pump-filter']\n",
      "['MSpa Lite - KILI 6 - Round inflatable hot tub', '289.00', '2022-09-14T09:13:24.168646', 'https://www.alicesgarden.co.uk/product/round-inflatable-hot-tub-mspa-kili-6-grey-6-person-spa-pvc-pump-heater-air-pump-filter']\n",
      "['Premium MSpa CARLTON 6 - Round inflatable hot tub', '699.00', '2022-09-14T09:13:32.547938', 'https://www.alicesgarden.co.uk/product/spa-mspa-inflatable-round-carlton-6-person-205-cm-pvc-pump-heating-hydrojet-massage']\n",
      "['MSpa Lite - KILI 4 - Round inflatable hot tub', '249.00', '2022-09-14T09:13:42.009010', 'https://www.alicesgarden.co.uk/product/round-inflatable-hot-tub-mspa-kili-4-grey-4-person-spa-pvc-pump-heater-air-pump-filter-1']\n",
      "['Premium MSpa NEST 2 - 2 person hot tub and side table', '399.00', '2022-09-14T09:13:46.376592', 'https://www.alicesgarden.co.uk/product/inflatable-hot-tub-mspa-nest-2-compact-2-person-spa-side-table-cover-remote-control-1']\n"
     ]
    }
   ],
   "source": [
    "for site_links in b2b_site_links['Link']:\n",
    "    #starting the scrapping process\n",
    "    data = scrapB2BSite(site_links)\n",
    "    print(data)\n",
    "    sleepTimeInSeconds = random.randrange(2,10)\n",
    "    time.sleep(sleepTimeInSeconds)\n",
    "    # writing the processed output to a csv file\n",
    "    if(len(data)>0):\n",
    "        writeB2BSiteDataToCsvFile('/Users/kunaldeshpande/Desktop/Final Data/messy_Data_dates/sep2.csv', data, column_header)"
   ]
  },
  {
   "cell_type": "code",
   "execution_count": null,
   "id": "0b3a39c0",
   "metadata": {},
   "outputs": [],
   "source": [
    "\n",
    "\n"
   ]
  },
  {
   "cell_type": "code",
   "execution_count": null,
   "id": "b268396d",
   "metadata": {},
   "outputs": [],
   "source": []
  }
 ],
 "metadata": {
  "kernelspec": {
   "display_name": "Python 3 (ipykernel)",
   "language": "python",
   "name": "python3"
  },
  "language_info": {
   "codemirror_mode": {
    "name": "ipython",
    "version": 3
   },
   "file_extension": ".py",
   "mimetype": "text/x-python",
   "name": "python",
   "nbconvert_exporter": "python",
   "pygments_lexer": "ipython3",
   "version": "3.9.12"
  }
 },
 "nbformat": 4,
 "nbformat_minor": 5
}
